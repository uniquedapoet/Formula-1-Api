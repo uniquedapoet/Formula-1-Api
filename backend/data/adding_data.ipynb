{
 "cells": [
  {
   "cell_type": "code",
   "execution_count": 16,
   "metadata": {},
   "outputs": [
    {
     "name": "stdout",
     "output_type": "stream",
     "text": [
      "Index(['raceId', 'driverId', 'constructorId', 'points', 'laps', 'time',\n",
      "       'fastestLapTime', 'driverRef', 'nationality', 'circuitId',\n",
      "       'circuitname', 'date'],\n",
      "      dtype='object')\n",
      "Column: raceId, Type: int64, Sample: 18\n",
      "Column: driverId, Type: int64, Sample: 1\n",
      "Column: constructorId, Type: int64, Sample: 1\n",
      "Column: points, Type: float64, Sample: 10.0\n",
      "Column: laps, Type: int64, Sample: 58\n",
      "Column: time, Type: object, Sample: 1:34:50.616\n",
      "Column: fastestLapTime, Type: object, Sample: 1:27.452\n",
      "Column: driverRef, Type: object, Sample: hamilton\n",
      "Column: nationality, Type: object, Sample: British\n",
      "Column: circuitId, Type: int64, Sample: 1\n",
      "Column: circuitname, Type: object, Sample: Australian Grand Prix\n",
      "Column: date, Type: object, Sample: 2008-03-16\n"
     ]
    }
   ],
   "source": [
    "import pandas as pd\n",
    "\n",
    "# Load the results data with the correct header handling\n",
    "results_df = pd.read_csv('./extra_data/results.csv', header=0)\n",
    "results_df.columns = ['resultId', 'raceId', 'driverId', 'constructorId', 'number', 'grid', 'position', 'positionText', 'positionOrder', 'points', 'laps', 'time', 'milliseconds', 'fastestLap', 'rank', 'fastestLapTime', 'fastestLapSpeed', 'statusId']\n",
    "\n",
    "# Convert driverId to the same data type in results_df\n",
    "results_df['driverId'] = results_df['driverId'].astype(int)\n",
    "\n",
    "filtered_df_1 = results_df[['raceId', 'driverId', 'constructorId', 'points', 'laps', 'time', 'fastestLapTime']]\n",
    "\n",
    "# Load the driver data with the correct header handling\n",
    "drivers_df = pd.read_csv('drivers.csv', header=0)\n",
    "\n",
    "# Convert driverId to the same data type in drivers_df\n",
    "drivers_df['driverId'] = drivers_df['driverId'].astype(int)\n",
    "\n",
    "filtered_df_2 = drivers_df[['driverRef', 'nationality', 'driverId']]\n",
    "\n",
    "# Load the race data with the correct header handling\n",
    "race_df = pd.read_csv('races.csv', header=0)\n",
    "race_df['circuitId'] = race_df['circuitId'].astype(int)\n",
    "filtered_df_3 = race_df[['raceId', 'circuitId', 'name','date']].copy()\n",
    "filtered_df_3.rename(columns={'name': 'circuitname'}, inplace=True)\n",
    "\n",
    "# Merge the results data with the driver data on driverId\n",
    "merged_df = pd.merge(filtered_df_1, filtered_df_2, on='driverId')\n",
    "\n",
    "# Merge the merged_df with the race data on raceId\n",
    "merged_df = pd.merge(merged_df, filtered_df_3, on='raceId')\n",
    "\n",
    "# Save the final merged DataFrame to a new CSV file\n",
    "merged_df.to_csv('race_results.csv', index=True)\n",
    "\n",
    "# Display the relevant columns to verify driver information\n",
    "print(merged_df.columns)\n",
    "for col in merged_df.columns:\n",
    "    print(f\"Column: {col}, Type: {merged_df[col].dtype}, Sample: {merged_df[col].iloc[0]}\")"
   ]
  },
  {
   "cell_type": "code",
   "execution_count": null,
   "metadata": {},
   "outputs": [],
   "source": []
  }
 ],
 "metadata": {
  "kernelspec": {
   "display_name": "Python 3",
   "language": "python",
   "name": "python3"
  },
  "language_info": {
   "codemirror_mode": {
    "name": "ipython",
    "version": 3
   },
   "file_extension": ".py",
   "mimetype": "text/x-python",
   "name": "python",
   "nbconvert_exporter": "python",
   "pygments_lexer": "ipython3",
   "version": "3.8.9"
  }
 },
 "nbformat": 4,
 "nbformat_minor": 2
}
